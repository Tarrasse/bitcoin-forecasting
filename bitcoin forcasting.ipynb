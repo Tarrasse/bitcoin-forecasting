{
 "cells": [
  {
   "cell_type": "markdown",
   "metadata": {},
   "source": [
    "#  Loading the data and the preprocissing"
   ]
  },
  {
   "cell_type": "code",
   "execution_count": 1,
   "metadata": {
    "collapsed": true
   },
   "outputs": [],
   "source": [
    "import numpy as np\n",
    "import pandas as pd\n",
    "import seaborn as sns\n",
    "import matplotlib.pyplot as plt\n",
    "from sklearn.model_selection import train_test_split\n",
    "from sklearn.preprocessing import MinMaxScaler\n",
    "\n",
    "%matplotlib inline"
   ]
  },
  {
   "cell_type": "code",
   "execution_count": 2,
   "metadata": {},
   "outputs": [
    {
     "data": {
      "text/html": [
       "<div>\n",
       "<style>\n",
       "    .dataframe thead tr:only-child th {\n",
       "        text-align: right;\n",
       "    }\n",
       "\n",
       "    .dataframe thead th {\n",
       "        text-align: left;\n",
       "    }\n",
       "\n",
       "    .dataframe tbody tr th {\n",
       "        vertical-align: top;\n",
       "    }\n",
       "</style>\n",
       "<table border=\"1\" class=\"dataframe\">\n",
       "  <thead>\n",
       "    <tr style=\"text-align: right;\">\n",
       "      <th></th>\n",
       "      <th>date</th>\n",
       "      <th>price</th>\n",
       "    </tr>\n",
       "  </thead>\n",
       "  <tbody>\n",
       "    <tr>\n",
       "      <th>0</th>\n",
       "      <td>2016-07-13 00:00:00</td>\n",
       "      <td>657.452487</td>\n",
       "    </tr>\n",
       "    <tr>\n",
       "      <th>1</th>\n",
       "      <td>2016-07-14 00:00:00</td>\n",
       "      <td>658.831613</td>\n",
       "    </tr>\n",
       "    <tr>\n",
       "      <th>2</th>\n",
       "      <td>2016-07-15 00:00:00</td>\n",
       "      <td>664.571450</td>\n",
       "    </tr>\n",
       "    <tr>\n",
       "      <th>3</th>\n",
       "      <td>2016-07-16 00:00:00</td>\n",
       "      <td>662.153350</td>\n",
       "    </tr>\n",
       "    <tr>\n",
       "      <th>4</th>\n",
       "      <td>2016-07-17 00:00:00</td>\n",
       "      <td>675.459050</td>\n",
       "    </tr>\n",
       "  </tbody>\n",
       "</table>\n",
       "</div>"
      ],
      "text/plain": [
       "                  date       price\n",
       "0  2016-07-13 00:00:00  657.452487\n",
       "1  2016-07-14 00:00:00  658.831613\n",
       "2  2016-07-15 00:00:00  664.571450\n",
       "3  2016-07-16 00:00:00  662.153350\n",
       "4  2016-07-17 00:00:00  675.459050"
      ]
     },
     "execution_count": 2,
     "metadata": {},
     "output_type": "execute_result"
    }
   ],
   "source": [
    "prices_df = pd.DataFrame.from_csv('market-price.csv', header=None, index_col=None)\n",
    "prices_df.columns = ['date', 'price']\n",
    "\n",
    "prices_df.head()"
   ]
  },
  {
   "cell_type": "code",
   "execution_count": 3,
   "metadata": {},
   "outputs": [
    {
     "data": {
      "text/plain": [
       "[<matplotlib.lines.Line2D at 0x7f828335f6d8>]"
      ]
     },
     "execution_count": 3,
     "metadata": {},
     "output_type": "execute_result"
    },
    {
     "data": {
      "image/png": "[encoded data removed]",
      "text/plain": [
       "<matplotlib.figure.Figure at 0x7f82b8282320>"
      ]
     },
     "metadata": {},
     "output_type": "display_data"
    }
   ],
   "source": [
    "plt.plot(prices_df.price.values)"
   ]
  },
  {
   "cell_type": "code",
   "execution_count": 4,
   "metadata": {
    "collapsed": true
   },
   "outputs": [],
   "source": [
    "seq_length = 30"
   ]
  },
  {
   "cell_type": "code",
   "execution_count": 5,
   "metadata": {
    "collapsed": true
   },
   "outputs": [],
   "source": [
    "X = np.array(prices_df.price.values).reshape(-1, 1)\n",
    "\n",
    "minMax = MinMaxScaler()\n",
    "X = minMax.fit_transform(X)\n",
    "\n",
    "X = X.squeeze()"
   ]
  },
  {
   "cell_type": "code",
   "execution_count": 6,
   "metadata": {
    "collapsed": true
   },
   "outputs": [],
   "source": [
    "x = []\n",
    "y = []\n",
    "for i in range(len(prices_df.price) - seq_length):\n",
    "    x.append(X[i: i+(seq_length)-1])\n",
    "    y.append(X[i+(seq_length)-1])\n",
    "x = np.array(x)\n",
    "y = np.array(y)"
   ]
  },
  {
   "cell_type": "code",
   "execution_count": 7,
   "metadata": {},
   "outputs": [
    {
     "name": "stdout",
     "output_type": "stream",
     "text": [
      "(525, 29)\n",
      "(175, 29)\n",
      "(175,)\n",
      "(525,)\n"
     ]
    }
   ],
   "source": [
    "x_train, x_test, y_train, y_test= train_test_split(x, y)\n",
    "print(x_train.shape)\n",
    "print(x_test.shape)\n",
    "print(y_test.shape)\n",
    "print(y_train.shape)"
   ]
  },
  {
   "cell_type": "code",
   "execution_count": 8,
   "metadata": {
    "collapsed": true
   },
   "outputs": [],
   "source": [
    "x_train = x_train.reshape(-1, seq_length-1,1)\n",
    "x_test = x_test.reshape(-1, seq_length-1,1)"
   ]
  },
  {
   "cell_type": "markdown",
   "metadata": {},
   "source": [
    "# Model building and training"
   ]
  },
  {
   "cell_type": "code",
   "execution_count": 9,
   "metadata": {},
   "outputs": [
    {
     "name": "stderr",
     "output_type": "stream",
     "text": [
      "Using TensorFlow backend.\n"
     ]
    }
   ],
   "source": [
    "import keras\n",
    "from keras.layers import Input, LSTM, Activation, Dense\n",
    "from keras.models import Sequential, Model\n",
    "from keras.callbacks import LearningRateScheduler"
   ]
  },
  {
   "cell_type": "code",
   "execution_count": 10,
   "metadata": {
    "collapsed": true
   },
   "outputs": [],
   "source": [
    "model = Sequential()"
   ]
  },
  {
   "cell_type": "code",
   "execution_count": 11,
   "metadata": {
    "collapsed": true
   },
   "outputs": [],
   "source": [
    "input = Input((seq_length-1, 1))\n",
    "X = LSTM(128, recurrent_dropout= 0.5)(input)\n",
    "X = Dense(1)(X)\n",
    "model = Model(input, X)"
   ]
  },
  {
   "cell_type": "code",
   "execution_count": 12,
   "metadata": {
    "collapsed": true
   },
   "outputs": [],
   "source": [
    "model.compile(loss='mse', optimizer='adam')"
   ]
  },
  {
   "cell_type": "code",
   "execution_count": 13,
   "metadata": {
    "collapsed": true
   },
   "outputs": [],
   "source": [
    "def reduce(epoch, lr):\n",
    "    if epoch%10 == 0:\n",
    "        return lr\n",
    "    return lr\n",
    "scheduler = LearningRateScheduler(reduce)"
   ]
  },
  {
   "cell_type": "code",
   "execution_count": 14,
   "metadata": {
    "scrolled": false
   },
   "outputs": [
    {
     "name": "stdout",
     "output_type": "stream",
     "text": [
      "Train on 420 samples, validate on 105 samples\n",
      "Epoch 1/300\n",
      "420/420 [==============================] - 1s 2ms/step - loss: 0.0231 - val_loss: 0.0037\n",
      "Epoch 2/300\n",
      "420/420 [==============================] - 0s 1ms/step - loss: 0.0041 - val_loss: 0.0021\n",
      "Epoch 3/300\n",
      "420/420 [==============================] - 1s 1ms/step - loss: 0.0024 - val_loss: 0.0022\n",
      "Epoch 4/300\n",
      "420/420 [==============================] - 1s 2ms/step - loss: 0.0024 - val_loss: 0.0023\n",
      "Epoch 5/300\n",
      "420/420 [==============================] - 1s 2ms/step - loss: 0.0021 - val_loss: 0.0017\n",
      "Epoch 6/300\n",
      "420/420 [==============================] - 1s 1ms/step - loss: 0.0021 - val_loss: 0.0018\n",
      "Epoch 7/300\n",
      "420/420 [==============================] - 1s 1ms/step - loss: 0.0016 - val_loss: 0.0015\n",
      "Epoch 8/300\n",
      "420/420 [==============================] - 1s 1ms/step - loss: 0.0014 - val_loss: 0.0015\n",
      "Epoch 9/300\n",
      "420/420 [==============================] - 1s 1ms/step - loss: 0.0013 - val_loss: 0.0015\n",
      "Epoch 10/300\n",
      "420/420 [==============================] - 0s 824us/step - loss: 0.0012 - val_loss: 0.0014\n",
      "Epoch 11/300\n",
      "420/420 [==============================] - 0s 973us/step - loss: 0.0015 - val_loss: 0.0016\n",
      "Epoch 12/300\n",
      "420/420 [==============================] - 1s 1ms/step - loss: 0.0013 - val_loss: 0.0014\n",
      "Epoch 13/300\n",
      "420/420 [==============================] - 0s 1ms/step - loss: 0.0013 - val_loss: 0.0014\n",
      "Epoch 14/300\n",
      "420/420 [==============================] - 1s 2ms/step - loss: 0.0013 - val_loss: 0.0014\n",
      "Epoch 15/300\n",
      "420/420 [==============================] - 1s 2ms/step - loss: 0.0014 - val_loss: 0.0014\n",
      "Epoch 16/300\n",
      "420/420 [==============================] - 1s 1ms/step - loss: 0.0013 - val_loss: 0.0019\n",
      "Epoch 17/300\n",
      "420/420 [==============================] - 1s 1ms/step - loss: 0.0015 - val_loss: 0.0013\n",
      "Epoch 18/300\n",
      "420/420 [==============================] - 1s 2ms/step - loss: 0.0013 - val_loss: 0.0012\n",
      "Epoch 19/300\n",
      "420/420 [==============================] - 1s 2ms/step - loss: 0.0013 - val_loss: 0.0016\n",
      "Epoch 20/300\n",
      "420/420 [==============================] - 1s 2ms/step - loss: 0.0013 - val_loss: 0.0013\n",
      "Epoch 21/300\n",
      "420/420 [==============================] - 1s 1ms/step - loss: 0.0014 - val_loss: 0.0012\n",
      "Epoch 22/300\n",
      "420/420 [==============================] - 1s 1ms/step - loss: 0.0012 - val_loss: 0.0011\n",
      "Epoch 23/300\n",
      "420/420 [==============================] - 0s 923us/step - loss: 0.0013 - val_loss: 0.0013\n",
      "Epoch 24/300\n",
      "420/420 [==============================] - 0s 931us/step - loss: 0.0011 - val_loss: 0.0013\n",
      "Epoch 25/300\n",
      "420/420 [==============================] - 0s 1ms/step - loss: 0.0011 - val_loss: 0.0011\n",
      "Epoch 26/300\n",
      "420/420 [==============================] - 0s 1ms/step - loss: 0.0010 - val_loss: 0.0011\n",
      "Epoch 27/300\n",
      "420/420 [==============================] - 0s 1ms/step - loss: 0.0012 - val_loss: 0.0014\n",
      "Epoch 28/300\n",
      "420/420 [==============================] - 1s 1ms/step - loss: 0.0012 - val_loss: 0.0013\n",
      "Epoch 29/300\n",
      "420/420 [==============================] - 1s 1ms/step - loss: 8.9252e-04 - val_loss: 0.0010\n",
      "Epoch 30/300\n",
      "420/420 [==============================] - 0s 838us/step - loss: 9.4862e-04 - val_loss: 0.0011\n",
      "Epoch 31/300\n",
      "420/420 [==============================] - 0s 871us/step - loss: 0.0010 - val_loss: 0.0010\n",
      "Epoch 32/300\n",
      "420/420 [==============================] - 0s 967us/step - loss: 9.6378e-04 - val_loss: 0.0010\n",
      "Epoch 33/300\n",
      "420/420 [==============================] - 0s 1ms/step - loss: 0.0014 - val_loss: 0.0018\n",
      "Epoch 34/300\n",
      "420/420 [==============================] - 0s 881us/step - loss: 0.0010 - val_loss: 0.0010\n",
      "Epoch 35/300\n",
      "420/420 [==============================] - 0s 952us/step - loss: 9.3067e-04 - val_loss: 9.9773e-04\n",
      "Epoch 36/300\n",
      "420/420 [==============================] - 0s 834us/step - loss: 9.3328e-04 - val_loss: 0.0011\n",
      "Epoch 37/300\n",
      "420/420 [==============================] - 1s 2ms/step - loss: 9.0437e-04 - val_loss: 9.8330e-04\n",
      "Epoch 38/300\n",
      "420/420 [==============================] - 1s 2ms/step - loss: 8.4109e-04 - val_loss: 9.8136e-04\n",
      "Epoch 39/300\n",
      "420/420 [==============================] - 1s 2ms/step - loss: 8.0088e-04 - val_loss: 0.0012\n",
      "Epoch 40/300\n",
      "420/420 [==============================] - 1s 1ms/step - loss: 7.6724e-04 - val_loss: 9.9254e-04\n",
      "Epoch 41/300\n",
      "420/420 [==============================] - 0s 970us/step - loss: 8.7740e-04 - val_loss: 0.0011\n",
      "Epoch 42/300\n",
      "420/420 [==============================] - 0s 844us/step - loss: 9.7555e-04 - val_loss: 0.0010\n",
      "Epoch 43/300\n",
      "420/420 [==============================] - 0s 874us/step - loss: 9.3756e-04 - val_loss: 9.5609e-04\n",
      "Epoch 44/300\n",
      "420/420 [==============================] - 0s 854us/step - loss: 8.5744e-04 - val_loss: 9.8175e-04\n",
      "Epoch 45/300\n",
      "420/420 [==============================] - 0s 850us/step - loss: 8.1240e-04 - val_loss: 0.0011\n",
      "Epoch 46/300\n",
      "420/420 [==============================] - 1s 1ms/step - loss: 9.4518e-04 - val_loss: 0.0011\n",
      "Epoch 47/300\n",
      "420/420 [==============================] - 1s 1ms/step - loss: 7.8787e-04 - val_loss: 9.3937e-04\n",
      "Epoch 48/300\n",
      "420/420 [==============================] - 1s 1ms/step - loss: 8.7081e-04 - val_loss: 0.0010\n",
      "Epoch 49/300\n",
      "420/420 [==============================] - 0s 1ms/step - loss: 8.3795e-04 - val_loss: 9.2412e-04\n",
      "Epoch 50/300\n",
      "420/420 [==============================] - 0s 839us/step - loss: 0.0010 - val_loss: 9.1088e-04\n",
      "Epoch 51/300\n",
      "420/420 [==============================] - 0s 826us/step - loss: 8.8192e-04 - val_loss: 9.2096e-04\n",
      "Epoch 52/300\n",
      "420/420 [==============================] - 0s 814us/step - loss: 7.3686e-04 - val_loss: 9.1438e-04\n",
      "Epoch 53/300\n",
      "420/420 [==============================] - 0s 1ms/step - loss: 7.7727e-04 - val_loss: 9.4111e-04\n",
      "Epoch 54/300\n",
      "420/420 [==============================] - 0s 1ms/step - loss: 9.2092e-04 - val_loss: 0.0011\n",
      "Epoch 55/300\n",
      "420/420 [==============================] - 0s 1ms/step - loss: 6.8232e-04 - val_loss: 9.0805e-04\n",
      "Epoch 56/300\n",
      "420/420 [==============================] - 1s 1ms/step - loss: 8.6181e-04 - val_loss: 9.0138e-04\n",
      "Epoch 57/300\n",
      "420/420 [==============================] - 0s 1ms/step - loss: 8.2696e-04 - val_loss: 0.0012\n",
      "Epoch 58/300\n",
      "420/420 [==============================] - 0s 1ms/step - loss: 7.8073e-04 - val_loss: 9.5980e-04\n",
      "Epoch 59/300\n",
      "420/420 [==============================] - 0s 1ms/step - loss: 9.1574e-04 - val_loss: 9.1165e-04\n",
      "Epoch 60/300\n",
      "420/420 [==============================] - 0s 990us/step - loss: 7.8717e-04 - val_loss: 8.9485e-04\n",
      "Epoch 61/300\n",
      "420/420 [==============================] - 0s 1ms/step - loss: 7.0420e-04 - val_loss: 9.1111e-04\n",
      "Epoch 62/300\n",
      "420/420 [==============================] - 0s 1ms/step - loss: 7.1264e-04 - val_loss: 9.0399e-04\n",
      "Epoch 63/300\n",
      "420/420 [==============================] - 0s 997us/step - loss: 7.5668e-04 - val_loss: 9.3672e-04\n",
      "Epoch 64/300\n",
      "420/420 [==============================] - 0s 1ms/step - loss: 9.1224e-04 - val_loss: 9.6898e-04\n",
      "Epoch 65/300\n",
      "420/420 [==============================] - 0s 1ms/step - loss: 7.7446e-04 - val_loss: 9.6030e-04\n",
      "Epoch 66/300\n",
      "420/420 [==============================] - 0s 1ms/step - loss: 7.6829e-04 - val_loss: 8.8672e-04\n",
      "Epoch 67/300\n",
      "420/420 [==============================] - 0s 1ms/step - loss: 8.9661e-04 - val_loss: 9.1986e-04\n",
      "Epoch 68/300\n",
      "420/420 [==============================] - 0s 1ms/step - loss: 7.8609e-04 - val_loss: 9.1997e-04\n",
      "Epoch 69/300\n",
      "420/420 [==============================] - 0s 1ms/step - loss: 7.7089e-04 - val_loss: 9.3886e-04\n",
      "Epoch 70/300\n",
      "420/420 [==============================] - 0s 1ms/step - loss: 7.4291e-04 - val_loss: 9.3556e-04\n",
      "Epoch 71/300\n",
      "420/420 [==============================] - 0s 1ms/step - loss: 9.5674e-04 - val_loss: 9.1271e-04\n",
      "Epoch 72/300\n",
      "420/420 [==============================] - 1s 2ms/step - loss: 8.5505e-04 - val_loss: 0.0011\n",
      "Epoch 73/300\n",
      "420/420 [==============================] - 1s 2ms/step - loss: 0.0011 - val_loss: 0.0015\n",
      "Epoch 74/300\n",
      "420/420 [==============================] - 0s 1ms/step - loss: 9.1678e-04 - val_loss: 8.6179e-04\n",
      "Epoch 75/300\n",
      "420/420 [==============================] - 1s 1ms/step - loss: 8.1279e-04 - val_loss: 8.6835e-04\n",
      "Epoch 76/300\n",
      "420/420 [==============================] - 1s 1ms/step - loss: 7.5193e-04 - val_loss: 9.0368e-04\n",
      "Epoch 77/300\n",
      "420/420 [==============================] - 0s 1ms/step - loss: 7.3016e-04 - val_loss: 8.6171e-04\n",
      "Epoch 78/300\n",
      "420/420 [==============================] - 0s 1ms/step - loss: 7.1821e-04 - val_loss: 8.5277e-04\n",
      "Epoch 79/300\n",
      "420/420 [==============================] - 0s 1ms/step - loss: 7.2756e-04 - val_loss: 9.3138e-04\n",
      "Epoch 80/300\n",
      "420/420 [==============================] - 0s 1ms/step - loss: 6.7895e-04 - val_loss: 8.8077e-04\n",
      "Epoch 81/300\n",
      "420/420 [==============================] - 0s 1ms/step - loss: 7.2889e-04 - val_loss: 0.0010\n",
      "Epoch 82/300\n",
      "420/420 [==============================] - 1s 1ms/step - loss: 7.5599e-04 - val_loss: 8.3921e-04\n",
      "Epoch 83/300\n",
      "420/420 [==============================] - 1s 1ms/step - loss: 6.9997e-04 - val_loss: 8.5492e-04\n",
      "Epoch 84/300\n",
      "420/420 [==============================] - 0s 1ms/step - loss: 7.4390e-04 - val_loss: 8.2711e-04\n",
      "Epoch 85/300\n",
      "420/420 [==============================] - 0s 1ms/step - loss: 7.9389e-04 - val_loss: 9.7591e-04\n",
      "Epoch 86/300\n",
      "420/420 [==============================] - 0s 1ms/step - loss: 7.6663e-04 - val_loss: 8.3479e-04\n",
      "Epoch 87/300\n",
      "420/420 [==============================] - 0s 1ms/step - loss: 7.0445e-04 - val_loss: 9.8032e-04\n",
      "Epoch 88/300\n",
      "420/420 [==============================] - 0s 1ms/step - loss: 8.9452e-04 - val_loss: 8.6222e-04\n",
      "Epoch 89/300\n",
      "420/420 [==============================] - 0s 1ms/step - loss: 7.8804e-04 - val_loss: 9.8888e-04\n",
      "Epoch 90/300\n",
      "420/420 [==============================] - 0s 1ms/step - loss: 6.9325e-04 - val_loss: 0.0011\n",
      "Epoch 91/300\n",
      "420/420 [==============================] - 1s 2ms/step - loss: 8.0359e-04 - val_loss: 8.3495e-04\n",
      "Epoch 92/300\n",
      "420/420 [==============================] - 0s 1ms/step - loss: 7.4103e-04 - val_loss: 8.1607e-04\n",
      "Epoch 93/300\n",
      "420/420 [==============================] - 1s 1ms/step - loss: 7.2110e-04 - val_loss: 8.4299e-04\n",
      "Epoch 94/300\n",
      "420/420 [==============================] - 0s 1ms/step - loss: 6.1894e-04 - val_loss: 8.1208e-04\n",
      "Epoch 95/300\n",
      "420/420 [==============================] - 0s 1ms/step - loss: 5.5978e-04 - val_loss: 8.1319e-04\n",
      "Epoch 96/300\n",
      "420/420 [==============================] - 1s 1ms/step - loss: 7.7043e-04 - val_loss: 0.0011\n",
      "Epoch 97/300\n",
      "420/420 [==============================] - 0s 1ms/step - loss: 7.8916e-04 - val_loss: 8.7421e-04\n",
      "Epoch 98/300\n",
      "420/420 [==============================] - 0s 1ms/step - loss: 8.7798e-04 - val_loss: 8.8200e-04\n",
      "Epoch 99/300\n",
      "420/420 [==============================] - 0s 1ms/step - loss: 7.2848e-04 - val_loss: 8.0534e-04\n",
      "Epoch 100/300\n",
      "420/420 [==============================] - 1s 1ms/step - loss: 6.4698e-04 - val_loss: 9.5621e-04\n",
      "Epoch 101/300\n",
      "420/420 [==============================] - 1s 1ms/step - loss: 6.5321e-04 - val_loss: 7.9764e-04\n",
      "Epoch 102/300\n",
      "420/420 [==============================] - 1s 1ms/step - loss: 7.4303e-04 - val_loss: 8.0244e-04\n",
      "Epoch 103/300\n",
      "420/420 [==============================] - 0s 1ms/step - loss: 6.1852e-04 - val_loss: 7.9791e-04\n",
      "Epoch 104/300\n",
      "420/420 [==============================] - 1s 1ms/step - loss: 6.4861e-04 - val_loss: 7.8767e-04\n",
      "Epoch 105/300\n",
      "420/420 [==============================] - 1s 1ms/step - loss: 6.8532e-04 - val_loss: 7.8255e-04\n",
      "Epoch 106/300\n",
      "420/420 [==============================] - 1s 1ms/step - loss: 6.6043e-04 - val_loss: 7.9983e-04\n",
      "Epoch 107/300\n",
      "420/420 [==============================] - 0s 1ms/step - loss: 7.4690e-04 - val_loss: 8.3385e-04\n",
      "Epoch 108/300\n",
      "420/420 [==============================] - 1s 1ms/step - loss: 6.1024e-04 - val_loss: 8.6249e-04\n",
      "Epoch 109/300\n",
      "420/420 [==============================] - 1s 2ms/step - loss: 7.4280e-04 - val_loss: 8.3088e-04\n",
      "Epoch 110/300\n",
      "420/420 [==============================] - 0s 1ms/step - loss: 7.0849e-04 - val_loss: 8.2886e-04\n",
      "Epoch 111/300\n",
      "420/420 [==============================] - 1s 1ms/step - loss: 8.1959e-04 - val_loss: 8.2253e-04\n",
      "Epoch 112/300\n",
      "420/420 [==============================] - 1s 1ms/step - loss: 7.2785e-04 - val_loss: 8.2692e-04\n",
      "Epoch 113/300\n",
      "420/420 [==============================] - 0s 1ms/step - loss: 7.2741e-04 - val_loss: 8.1905e-04\n",
      "Epoch 114/300\n",
      "420/420 [==============================] - 1s 2ms/step - loss: 7.1050e-04 - val_loss: 8.0570e-04\n",
      "Epoch 115/300\n",
      "420/420 [==============================] - 0s 1ms/step - loss: 7.1483e-04 - val_loss: 8.0581e-04\n",
      "Epoch 116/300\n",
      "420/420 [==============================] - 1s 1ms/step - loss: 6.5634e-04 - val_loss: 7.9225e-04\n",
      "Epoch 117/300\n",
      "420/420 [==============================] - 1s 1ms/step - loss: 7.9465e-04 - val_loss: 8.5477e-04\n",
      "Epoch 118/300\n",
      "420/420 [==============================] - 1s 1ms/step - loss: 5.9457e-04 - val_loss: 7.7631e-04\n",
      "Epoch 119/300\n",
      "420/420 [==============================] - 1s 2ms/step - loss: 6.6313e-04 - val_loss: 8.3741e-04\n",
      "Epoch 120/300\n",
      "420/420 [==============================] - 1s 1ms/step - loss: 7.1999e-04 - val_loss: 9.4725e-04\n",
      "Epoch 121/300\n",
      "420/420 [==============================] - 0s 1ms/step - loss: 7.0097e-04 - val_loss: 8.2871e-04\n",
      "Epoch 122/300\n",
      "420/420 [==============================] - 1s 1ms/step - loss: 7.4778e-04 - val_loss: 7.8807e-04\n",
      "Epoch 123/300\n",
      "420/420 [==============================] - 1s 2ms/step - loss: 7.0116e-04 - val_loss: 7.8660e-04\n",
      "Epoch 124/300\n",
      "420/420 [==============================] - 0s 1ms/step - loss: 7.1348e-04 - val_loss: 8.7958e-04\n",
      "Epoch 125/300\n",
      "420/420 [==============================] - 1s 1ms/step - loss: 7.3419e-04 - val_loss: 0.0011\n",
      "Epoch 126/300\n",
      "420/420 [==============================] - 1s 1ms/step - loss: 6.9040e-04 - val_loss: 8.1157e-04\n",
      "Epoch 127/300\n",
      "420/420 [==============================] - 1s 2ms/step - loss: 6.4025e-04 - val_loss: 8.1739e-04\n",
      "Epoch 128/300\n",
      "420/420 [==============================] - 1s 2ms/step - loss: 7.5547e-04 - val_loss: 7.9778e-04\n",
      "Epoch 129/300\n",
      "420/420 [==============================] - 1s 2ms/step - loss: 7.8232e-04 - val_loss: 7.7564e-04\n",
      "Epoch 130/300\n",
      "420/420 [==============================] - 1s 1ms/step - loss: 7.0775e-04 - val_loss: 7.9064e-04\n",
      "Epoch 131/300\n",
      "420/420 [==============================] - 1s 2ms/step - loss: 6.6734e-04 - val_loss: 7.6704e-04\n",
      "Epoch 132/300\n",
      "420/420 [==============================] - 1s 2ms/step - loss: 6.2296e-04 - val_loss: 8.1681e-04\n",
      "Epoch 133/300\n",
      "420/420 [==============================] - 1s 2ms/step - loss: 9.6303e-04 - val_loss: 0.0011\n",
      "Epoch 134/300\n",
      "420/420 [==============================] - 0s 935us/step - loss: 7.8937e-04 - val_loss: 8.5245e-04\n",
      "Epoch 135/300\n",
      "420/420 [==============================] - 1s 1ms/step - loss: 8.0108e-04 - val_loss: 7.6804e-04\n",
      "Epoch 136/300\n",
      "420/420 [==============================] - 1s 2ms/step - loss: 5.8065e-04 - val_loss: 7.6937e-04\n",
      "Epoch 137/300\n",
      "420/420 [==============================] - 1s 1ms/step - loss: 7.5069e-04 - val_loss: 7.6025e-04\n",
      "Epoch 138/300\n",
      "420/420 [==============================] - 1s 2ms/step - loss: 6.2724e-04 - val_loss: 8.2478e-04\n",
      "Epoch 139/300\n",
      "420/420 [==============================] - 1s 2ms/step - loss: 5.7881e-04 - val_loss: 7.4956e-04\n",
      "Epoch 140/300\n",
      "420/420 [==============================] - 1s 1ms/step - loss: 6.1827e-04 - val_loss: 7.9309e-04\n",
      "Epoch 141/300\n",
      "420/420 [==============================] - 0s 883us/step - loss: 6.8226e-04 - val_loss: 8.5967e-04\n",
      "Epoch 142/300\n",
      "420/420 [==============================] - 0s 931us/step - loss: 6.2661e-04 - val_loss: 7.6881e-04\n",
      "Epoch 143/300\n",
      "420/420 [==============================] - 0s 941us/step - loss: 6.5248e-04 - val_loss: 7.6416e-04\n",
      "Epoch 144/300\n",
      "420/420 [==============================] - 0s 1ms/step - loss: 6.0342e-04 - val_loss: 9.5870e-04\n",
      "Epoch 145/300\n",
      "420/420 [==============================] - 1s 2ms/step - loss: 6.4302e-04 - val_loss: 8.0697e-04\n",
      "Epoch 146/300\n",
      "420/420 [==============================] - 1s 2ms/step - loss: 6.0050e-04 - val_loss: 7.4953e-04\n",
      "Epoch 147/300\n",
      "420/420 [==============================] - 0s 984us/step - loss: 6.0516e-04 - val_loss: 7.6014e-04\n",
      "Epoch 148/300\n",
      "420/420 [==============================] - 0s 860us/step - loss: 5.6866e-04 - val_loss: 7.4967e-04\n",
      "Epoch 149/300\n",
      "420/420 [==============================] - 0s 1ms/step - loss: 5.5916e-04 - val_loss: 7.4226e-04\n",
      "Epoch 150/300\n",
      "420/420 [==============================] - 0s 910us/step - loss: 6.1814e-04 - val_loss: 8.1906e-04\n",
      "Epoch 151/300\n"
     ]
    },
    {
     "name": "stdout",
     "output_type": "stream",
     "text": [
      "420/420 [==============================] - 0s 896us/step - loss: 6.4864e-04 - val_loss: 7.4862e-04\n",
      "Epoch 152/300\n",
      "420/420 [==============================] - 0s 885us/step - loss: 6.1981e-04 - val_loss: 7.4359e-04\n",
      "Epoch 153/300\n",
      "420/420 [==============================] - 0s 882us/step - loss: 5.8925e-04 - val_loss: 7.4151e-04\n",
      "Epoch 154/300\n",
      "420/420 [==============================] - 0s 890us/step - loss: 9.1350e-04 - val_loss: 9.0571e-04\n",
      "Epoch 155/300\n",
      "420/420 [==============================] - 0s 871us/step - loss: 6.1338e-04 - val_loss: 8.3883e-04\n",
      "Epoch 156/300\n",
      "420/420 [==============================] - 0s 916us/step - loss: 7.6323e-04 - val_loss: 7.4607e-04\n",
      "Epoch 157/300\n",
      "420/420 [==============================] - 0s 906us/step - loss: 6.6050e-04 - val_loss: 7.7208e-04\n",
      "Epoch 158/300\n",
      "420/420 [==============================] - 0s 895us/step - loss: 6.2428e-04 - val_loss: 9.0597e-04\n",
      "Epoch 159/300\n",
      "420/420 [==============================] - 0s 897us/step - loss: 5.5583e-04 - val_loss: 9.1359e-04\n",
      "Epoch 160/300\n",
      "420/420 [==============================] - 0s 910us/step - loss: 6.2497e-04 - val_loss: 7.5635e-04\n",
      "Epoch 161/300\n",
      "420/420 [==============================] - 1s 1ms/step - loss: 6.8371e-04 - val_loss: 8.9303e-04\n",
      "Epoch 162/300\n",
      "420/420 [==============================] - 1s 2ms/step - loss: 7.8847e-04 - val_loss: 7.5012e-04\n",
      "Epoch 163/300\n",
      "420/420 [==============================] - 1s 1ms/step - loss: 6.3039e-04 - val_loss: 7.5636e-04\n",
      "Epoch 164/300\n",
      "420/420 [==============================] - 1s 1ms/step - loss: 6.6513e-04 - val_loss: 8.0482e-04\n",
      "Epoch 165/300\n",
      "420/420 [==============================] - 1s 1ms/step - loss: 5.7698e-04 - val_loss: 7.4649e-04\n",
      "Epoch 166/300\n",
      "420/420 [==============================] - 1s 2ms/step - loss: 5.6840e-04 - val_loss: 7.6187e-04\n",
      "Epoch 167/300\n",
      "420/420 [==============================] - 1s 1ms/step - loss: 5.8026e-04 - val_loss: 7.6425e-04\n",
      "Epoch 168/300\n",
      "420/420 [==============================] - 1s 2ms/step - loss: 5.8447e-04 - val_loss: 7.4176e-04\n",
      "Epoch 169/300\n",
      "420/420 [==============================] - 1s 2ms/step - loss: 5.7344e-04 - val_loss: 7.5752e-04\n",
      "Epoch 170/300\n",
      "420/420 [==============================] - 1s 1ms/step - loss: 5.4868e-04 - val_loss: 7.3691e-04\n",
      "Epoch 171/300\n",
      "420/420 [==============================] - 1s 1ms/step - loss: 6.2428e-04 - val_loss: 7.4396e-04\n",
      "Epoch 172/300\n",
      "420/420 [==============================] - 1s 1ms/step - loss: 6.2851e-04 - val_loss: 7.4141e-04\n",
      "Epoch 173/300\n",
      "420/420 [==============================] - 1s 1ms/step - loss: 6.5597e-04 - val_loss: 7.3525e-04\n",
      "Epoch 174/300\n",
      "420/420 [==============================] - 1s 1ms/step - loss: 6.2438e-04 - val_loss: 7.3885e-04\n",
      "Epoch 175/300\n",
      "420/420 [==============================] - 1s 1ms/step - loss: 7.7491e-04 - val_loss: 7.3490e-04\n",
      "Epoch 176/300\n",
      "420/420 [==============================] - 1s 2ms/step - loss: 6.5334e-04 - val_loss: 7.3740e-04\n",
      "Epoch 177/300\n",
      "420/420 [==============================] - 1s 2ms/step - loss: 6.3089e-04 - val_loss: 7.4410e-04\n",
      "Epoch 178/300\n",
      "420/420 [==============================] - 1s 2ms/step - loss: 6.2966e-04 - val_loss: 7.2537e-04\n",
      "Epoch 179/300\n",
      "420/420 [==============================] - 1s 2ms/step - loss: 6.2263e-04 - val_loss: 7.2826e-04\n",
      "Epoch 180/300\n",
      "420/420 [==============================] - 1s 2ms/step - loss: 6.2854e-04 - val_loss: 7.1918e-04\n",
      "Epoch 181/300\n",
      "420/420 [==============================] - 1s 2ms/step - loss: 6.0071e-04 - val_loss: 7.6900e-04\n",
      "Epoch 182/300\n",
      "420/420 [==============================] - 1s 1ms/step - loss: 5.5791e-04 - val_loss: 7.8424e-04\n",
      "Epoch 183/300\n",
      "420/420 [==============================] - 1s 1ms/step - loss: 6.1999e-04 - val_loss: 0.0011\n",
      "Epoch 184/300\n",
      "420/420 [==============================] - 1s 2ms/step - loss: 8.2894e-04 - val_loss: 7.6101e-04\n",
      "Epoch 185/300\n",
      "420/420 [==============================] - 1s 1ms/step - loss: 6.7307e-04 - val_loss: 7.1670e-04\n",
      "Epoch 186/300\n",
      "420/420 [==============================] - 1s 1ms/step - loss: 5.9994e-04 - val_loss: 9.2414e-04\n",
      "Epoch 187/300\n",
      "420/420 [==============================] - 1s 1ms/step - loss: 6.0698e-04 - val_loss: 7.7499e-04\n",
      "Epoch 188/300\n",
      "420/420 [==============================] - 1s 2ms/step - loss: 5.7809e-04 - val_loss: 7.1161e-04\n",
      "Epoch 189/300\n",
      "420/420 [==============================] - 1s 1ms/step - loss: 5.1387e-04 - val_loss: 7.1379e-04\n",
      "Epoch 190/300\n",
      "420/420 [==============================] - 1s 1ms/step - loss: 6.5310e-04 - val_loss: 7.3549e-04\n",
      "Epoch 191/300\n",
      "420/420 [==============================] - 1s 2ms/step - loss: 6.6378e-04 - val_loss: 7.0892e-04\n",
      "Epoch 192/300\n",
      "420/420 [==============================] - 1s 1ms/step - loss: 5.7365e-04 - val_loss: 7.7121e-04\n",
      "Epoch 193/300\n",
      "420/420 [==============================] - 1s 1ms/step - loss: 5.3450e-04 - val_loss: 9.1135e-04\n",
      "Epoch 194/300\n",
      "420/420 [==============================] - 1s 1ms/step - loss: 5.7867e-04 - val_loss: 7.0741e-04\n",
      "Epoch 195/300\n",
      "420/420 [==============================] - 1s 1ms/step - loss: 5.9890e-04 - val_loss: 7.0508e-04\n",
      "Epoch 196/300\n",
      "420/420 [==============================] - 1s 2ms/step - loss: 5.3316e-04 - val_loss: 7.1785e-04\n",
      "Epoch 197/300\n",
      "420/420 [==============================] - 1s 1ms/step - loss: 6.2158e-04 - val_loss: 7.1875e-04\n",
      "Epoch 198/300\n",
      "420/420 [==============================] - 1s 1ms/step - loss: 7.5821e-04 - val_loss: 9.0514e-04\n",
      "Epoch 199/300\n",
      "420/420 [==============================] - 1s 2ms/step - loss: 6.9934e-04 - val_loss: 8.6445e-04\n",
      "Epoch 200/300\n",
      "420/420 [==============================] - 0s 1ms/step - loss: 6.3614e-04 - val_loss: 7.0597e-04\n",
      "Epoch 201/300\n",
      "420/420 [==============================] - 0s 938us/step - loss: 6.1074e-04 - val_loss: 7.1205e-04\n",
      "Epoch 202/300\n",
      "420/420 [==============================] - 1s 2ms/step - loss: 5.6901e-04 - val_loss: 7.2360e-04\n",
      "Epoch 203/300\n",
      "420/420 [==============================] - 1s 2ms/step - loss: 5.3064e-04 - val_loss: 8.4670e-04\n",
      "Epoch 204/300\n",
      "420/420 [==============================] - 1s 2ms/step - loss: 7.0406e-04 - val_loss: 8.2623e-04\n",
      "Epoch 205/300\n",
      "420/420 [==============================] - 1s 2ms/step - loss: 6.5149e-04 - val_loss: 8.0418e-04\n",
      "Epoch 206/300\n",
      "420/420 [==============================] - 1s 2ms/step - loss: 6.4751e-04 - val_loss: 8.5800e-04\n",
      "Epoch 207/300\n",
      "420/420 [==============================] - 1s 2ms/step - loss: 6.8807e-04 - val_loss: 6.8705e-04\n",
      "Epoch 208/300\n",
      "420/420 [==============================] - 1s 2ms/step - loss: 7.3862e-04 - val_loss: 7.4054e-04\n",
      "Epoch 209/300\n",
      "420/420 [==============================] - 1s 1ms/step - loss: 6.6376e-04 - val_loss: 7.5954e-04\n",
      "Epoch 210/300\n",
      "420/420 [==============================] - 1s 1ms/step - loss: 6.5800e-04 - val_loss: 7.2713e-04\n",
      "Epoch 211/300\n",
      "420/420 [==============================] - 1s 1ms/step - loss: 6.3048e-04 - val_loss: 7.4006e-04\n",
      "Epoch 212/300\n",
      "420/420 [==============================] - 0s 1ms/step - loss: 6.6296e-04 - val_loss: 7.8207e-04\n",
      "Epoch 213/300\n",
      "420/420 [==============================] - 1s 1ms/step - loss: 5.4432e-04 - val_loss: 7.4824e-04\n",
      "Epoch 214/300\n",
      "420/420 [==============================] - 0s 1ms/step - loss: 5.2403e-04 - val_loss: 7.1117e-04\n",
      "Epoch 215/300\n",
      "420/420 [==============================] - 1s 1ms/step - loss: 5.4732e-04 - val_loss: 7.0404e-04\n",
      "Epoch 216/300\n",
      "420/420 [==============================] - 0s 1ms/step - loss: 5.4726e-04 - val_loss: 6.9429e-04\n",
      "Epoch 217/300\n",
      "420/420 [==============================] - 1s 1ms/step - loss: 5.4958e-04 - val_loss: 7.0784e-04\n",
      "Epoch 218/300\n",
      "420/420 [==============================] - 0s 1ms/step - loss: 5.0572e-04 - val_loss: 7.4667e-04\n",
      "Epoch 219/300\n",
      "420/420 [==============================] - 0s 1ms/step - loss: 6.2135e-04 - val_loss: 7.9350e-04\n",
      "Epoch 220/300\n",
      "420/420 [==============================] - 0s 1ms/step - loss: 5.8125e-04 - val_loss: 7.1877e-04\n",
      "Epoch 221/300\n",
      "420/420 [==============================] - 1s 1ms/step - loss: 5.4024e-04 - val_loss: 7.4781e-04\n",
      "Epoch 222/300\n",
      "420/420 [==============================] - 1s 1ms/step - loss: 5.8759e-04 - val_loss: 7.2329e-04\n",
      "Epoch 223/300\n",
      "420/420 [==============================] - 1s 1ms/step - loss: 5.8123e-04 - val_loss: 7.6047e-04\n",
      "Epoch 224/300\n",
      "420/420 [==============================] - 1s 1ms/step - loss: 5.9768e-04 - val_loss: 7.3124e-04\n"
     ]
    },
    {
     "name": "stdout",
     "output_type": "stream",
     "text": [
      "Epoch 225/300\n",
      "420/420 [==============================] - 0s 1ms/step - loss: 6.7938e-04 - val_loss: 7.5736e-04\n",
      "Epoch 226/300\n",
      "420/420 [==============================] - 1s 2ms/step - loss: 6.1126e-04 - val_loss: 6.8585e-04\n",
      "Epoch 227/300\n",
      "420/420 [==============================] - 0s 1ms/step - loss: 6.1595e-04 - val_loss: 8.5961e-04\n",
      "Epoch 228/300\n",
      "420/420 [==============================] - 1s 1ms/step - loss: 6.1978e-04 - val_loss: 7.0605e-04\n",
      "Epoch 229/300\n",
      "420/420 [==============================] - 0s 1ms/step - loss: 5.3860e-04 - val_loss: 8.1123e-04\n",
      "Epoch 230/300\n",
      "420/420 [==============================] - 0s 1ms/step - loss: 5.3871e-04 - val_loss: 7.4924e-04\n",
      "Epoch 231/300\n",
      "420/420 [==============================] - 0s 1ms/step - loss: 5.6144e-04 - val_loss: 6.8510e-04\n",
      "Epoch 232/300\n",
      "420/420 [==============================] - 0s 1ms/step - loss: 5.2245e-04 - val_loss: 7.1467e-04\n",
      "Epoch 233/300\n",
      "420/420 [==============================] - 0s 1ms/step - loss: 7.3086e-04 - val_loss: 7.7201e-04\n",
      "Epoch 234/300\n",
      "420/420 [==============================] - 0s 1ms/step - loss: 5.5457e-04 - val_loss: 7.7819e-04\n",
      "Epoch 235/300\n",
      "420/420 [==============================] - 1s 1ms/step - loss: 5.7924e-04 - val_loss: 6.8591e-04\n",
      "Epoch 236/300\n",
      "420/420 [==============================] - 1s 2ms/step - loss: 6.2512e-04 - val_loss: 7.6802e-04\n",
      "Epoch 237/300\n",
      "420/420 [==============================] - 1s 2ms/step - loss: 6.0896e-04 - val_loss: 6.8479e-04\n",
      "Epoch 238/300\n",
      "420/420 [==============================] - 1s 2ms/step - loss: 5.9999e-04 - val_loss: 6.8643e-04\n",
      "Epoch 239/300\n",
      "420/420 [==============================] - 1s 2ms/step - loss: 4.7788e-04 - val_loss: 6.8883e-04\n",
      "Epoch 240/300\n",
      "420/420 [==============================] - 1s 2ms/step - loss: 5.6215e-04 - val_loss: 7.1859e-04\n",
      "Epoch 241/300\n",
      "420/420 [==============================] - 1s 1ms/step - loss: 5.3503e-04 - val_loss: 6.9801e-04\n",
      "Epoch 242/300\n",
      "420/420 [==============================] - 1s 2ms/step - loss: 5.3351e-04 - val_loss: 7.3354e-04\n",
      "Epoch 243/300\n",
      "420/420 [==============================] - 1s 1ms/step - loss: 4.7015e-04 - val_loss: 6.7492e-04\n",
      "Epoch 244/300\n",
      "420/420 [==============================] - 1s 2ms/step - loss: 8.2731e-04 - val_loss: 7.3934e-04\n",
      "Epoch 245/300\n",
      "420/420 [==============================] - 1s 1ms/step - loss: 6.4622e-04 - val_loss: 7.9587e-04\n",
      "Epoch 246/300\n",
      "420/420 [==============================] - 1s 1ms/step - loss: 6.3147e-04 - val_loss: 7.3067e-04\n",
      "Epoch 247/300\n",
      "420/420 [==============================] - 1s 1ms/step - loss: 5.9322e-04 - val_loss: 6.8921e-04\n",
      "Epoch 248/300\n",
      "420/420 [==============================] - 1s 1ms/step - loss: 5.6908e-04 - val_loss: 7.0318e-04\n",
      "Epoch 249/300\n",
      "420/420 [==============================] - 1s 1ms/step - loss: 6.0806e-04 - val_loss: 7.5790e-04\n",
      "Epoch 250/300\n",
      "420/420 [==============================] - 1s 1ms/step - loss: 7.9035e-04 - val_loss: 6.7805e-04\n",
      "Epoch 251/300\n",
      "420/420 [==============================] - 1s 1ms/step - loss: 6.0543e-04 - val_loss: 6.6781e-04\n",
      "Epoch 252/300\n",
      "420/420 [==============================] - 1s 1ms/step - loss: 5.5863e-04 - val_loss: 6.9077e-04\n",
      "Epoch 253/300\n",
      "420/420 [==============================] - 1s 1ms/step - loss: 5.8657e-04 - val_loss: 6.8628e-04\n",
      "Epoch 254/300\n",
      "420/420 [==============================] - 1s 1ms/step - loss: 5.9147e-04 - val_loss: 6.6574e-04\n",
      "Epoch 255/300\n",
      "420/420 [==============================] - 1s 2ms/step - loss: 4.4864e-04 - val_loss: 6.8786e-04\n",
      "Epoch 256/300\n",
      "420/420 [==============================] - 1s 2ms/step - loss: 5.6355e-04 - val_loss: 6.9111e-04\n",
      "Epoch 257/300\n",
      "420/420 [==============================] - 1s 2ms/step - loss: 5.5309e-04 - val_loss: 6.5967e-04\n",
      "Epoch 258/300\n",
      "420/420 [==============================] - 1s 2ms/step - loss: 4.9981e-04 - val_loss: 6.9326e-04\n",
      "Epoch 259/300\n",
      "420/420 [==============================] - 1s 2ms/step - loss: 5.1732e-04 - val_loss: 6.9020e-04\n",
      "Epoch 260/300\n",
      "420/420 [==============================] - 1s 1ms/step - loss: 5.8257e-04 - val_loss: 6.7976e-04\n",
      "Epoch 261/300\n",
      "420/420 [==============================] - 1s 1ms/step - loss: 6.3044e-04 - val_loss: 6.7947e-04\n",
      "Epoch 262/300\n",
      "420/420 [==============================] - 1s 2ms/step - loss: 5.9535e-04 - val_loss: 7.9746e-04\n",
      "Epoch 263/300\n",
      "420/420 [==============================] - 1s 2ms/step - loss: 5.8433e-04 - val_loss: 7.4281e-04\n",
      "Epoch 264/300\n",
      "420/420 [==============================] - 1s 2ms/step - loss: 8.1581e-04 - val_loss: 6.8990e-04\n",
      "Epoch 265/300\n",
      "420/420 [==============================] - 1s 1ms/step - loss: 4.4545e-04 - val_loss: 6.5671e-04\n",
      "Epoch 266/300\n",
      "420/420 [==============================] - 1s 2ms/step - loss: 4.5725e-04 - val_loss: 6.5596e-04\n",
      "Epoch 267/300\n",
      "420/420 [==============================] - 1s 1ms/step - loss: 4.8530e-04 - val_loss: 7.4240e-04\n",
      "Epoch 268/300\n",
      "420/420 [==============================] - 1s 1ms/step - loss: 4.9007e-04 - val_loss: 6.6623e-04\n",
      "Epoch 269/300\n",
      "420/420 [==============================] - 0s 1ms/step - loss: 5.8725e-04 - val_loss: 6.6320e-04\n",
      "Epoch 270/300\n",
      "420/420 [==============================] - 1s 1ms/step - loss: 5.8242e-04 - val_loss: 6.8905e-04\n",
      "Epoch 271/300\n",
      "420/420 [==============================] - 1s 1ms/step - loss: 4.8895e-04 - val_loss: 6.4698e-04\n",
      "Epoch 272/300\n",
      "420/420 [==============================] - 1s 1ms/step - loss: 5.8780e-04 - val_loss: 7.9624e-04\n",
      "Epoch 273/300\n",
      "420/420 [==============================] - 0s 1ms/step - loss: 5.2876e-04 - val_loss: 6.6805e-04\n",
      "Epoch 274/300\n",
      "420/420 [==============================] - 0s 1ms/step - loss: 5.7370e-04 - val_loss: 7.4902e-04\n",
      "Epoch 275/300\n",
      "420/420 [==============================] - 0s 1ms/step - loss: 4.5900e-04 - val_loss: 8.4836e-04\n",
      "Epoch 276/300\n",
      "420/420 [==============================] - 0s 1ms/step - loss: 5.3057e-04 - val_loss: 6.6953e-04\n",
      "Epoch 277/300\n",
      "420/420 [==============================] - 0s 1ms/step - loss: 5.1826e-04 - val_loss: 6.6320e-04\n",
      "Epoch 278/300\n",
      "420/420 [==============================] - 0s 1ms/step - loss: 4.5197e-04 - val_loss: 6.7098e-04\n",
      "Epoch 279/300\n",
      "420/420 [==============================] - 1s 1ms/step - loss: 5.4957e-04 - val_loss: 6.6749e-04\n",
      "Epoch 280/300\n",
      "420/420 [==============================] - 1s 1ms/step - loss: 6.3492e-04 - val_loss: 7.2805e-04\n",
      "Epoch 281/300\n",
      "420/420 [==============================] - 0s 1ms/step - loss: 6.3536e-04 - val_loss: 6.5774e-04\n",
      "Epoch 282/300\n",
      "420/420 [==============================] - 1s 1ms/step - loss: 7.4085e-04 - val_loss: 7.3762e-04\n",
      "Epoch 283/300\n",
      "420/420 [==============================] - 1s 1ms/step - loss: 6.0901e-04 - val_loss: 7.0505e-04\n",
      "Epoch 284/300\n",
      "420/420 [==============================] - 0s 1ms/step - loss: 5.7645e-04 - val_loss: 6.7250e-04\n",
      "Epoch 285/300\n",
      "420/420 [==============================] - 1s 1ms/step - loss: 5.1485e-04 - val_loss: 6.4241e-04\n",
      "Epoch 286/300\n",
      "420/420 [==============================] - 0s 1ms/step - loss: 5.4000e-04 - val_loss: 6.8180e-04\n",
      "Epoch 287/300\n",
      "420/420 [==============================] - 0s 1ms/step - loss: 6.8856e-04 - val_loss: 8.8493e-04\n",
      "Epoch 288/300\n",
      "420/420 [==============================] - 0s 1ms/step - loss: 5.7239e-04 - val_loss: 6.8975e-04\n",
      "Epoch 289/300\n",
      "420/420 [==============================] - 0s 1ms/step - loss: 5.7466e-04 - val_loss: 6.4751e-04\n",
      "Epoch 290/300\n",
      "420/420 [==============================] - 0s 1ms/step - loss: 5.0719e-04 - val_loss: 6.5977e-04\n",
      "Epoch 291/300\n",
      "420/420 [==============================] - 1s 1ms/step - loss: 4.6094e-04 - val_loss: 6.4691e-04\n",
      "Epoch 292/300\n",
      "420/420 [==============================] - 0s 1ms/step - loss: 6.1501e-04 - val_loss: 7.2641e-04\n",
      "Epoch 293/300\n",
      "420/420 [==============================] - 0s 1ms/step - loss: 5.9606e-04 - val_loss: 6.3658e-04\n",
      "Epoch 294/300\n",
      "420/420 [==============================] - 1s 1ms/step - loss: 6.3274e-04 - val_loss: 6.5641e-04\n",
      "Epoch 295/300\n",
      "420/420 [==============================] - 0s 1ms/step - loss: 5.2569e-04 - val_loss: 6.4723e-04\n",
      "Epoch 296/300\n",
      "420/420 [==============================] - 0s 1ms/step - loss: 6.4295e-04 - val_loss: 6.7326e-04\n",
      "Epoch 297/300\n",
      "420/420 [==============================] - 0s 1ms/step - loss: 5.3259e-04 - val_loss: 6.4811e-04\n",
      "Epoch 298/300\n",
      "420/420 [==============================] - 1s 1ms/step - loss: 4.8039e-04 - val_loss: 6.5924e-04\n"
     ]
    },
    {
     "name": "stdout",
     "output_type": "stream",
     "text": [
      "Epoch 299/300\n",
      "420/420 [==============================] - 1s 1ms/step - loss: 4.9791e-04 - val_loss: 6.6772e-04\n",
      "Epoch 300/300\n",
      "420/420 [==============================] - 0s 1ms/step - loss: 5.7175e-04 - val_loss: 6.5599e-04\n"
     ]
    }
   ],
   "source": [
    "history = model.fit(x_train, y_train, epochs=300, validation_split=0.2)"
   ]
  },
  {
   "cell_type": "code",
   "execution_count": 15,
   "metadata": {},
   "outputs": [
    {
     "data": {
      "text/plain": [
       "[<matplotlib.lines.Line2D at 0x7f82743896d8>]"
      ]
     },
     "execution_count": 15,
     "metadata": {},
     "output_type": "execute_result"
    },
    {
     "data": {
      "image/png": "[encoded data removed]",
      "text/plain": [
       "<matplotlib.figure.Figure at 0x7f82742f8ac8>"
      ]
     },
     "metadata": {},
     "output_type": "display_data"
    }
   ],
   "source": [
    "plt.plot(list(history.history['val_loss']))"
   ]
  },
  {
   "cell_type": "code",
   "execution_count": 16,
   "metadata": {},
   "outputs": [
    {
     "data": {
      "text/plain": [
       "[<matplotlib.lines.Line2D at 0x7f82742de9b0>]"
      ]
     },
     "execution_count": 16,
     "metadata": {},
     "output_type": "execute_result"
    },
    {
     "data": {
      "image/png": "[encoded data removed]",
      "text/plain": [
       "<matplotlib.figure.Figure at 0x7f82743a8eb8>"
      ]
     },
     "metadata": {},
     "output_type": "display_data"
    }
   ],
   "source": [
    "plt.plot(list(history.history['loss']))"
   ]
  },
  {
   "cell_type": "markdown",
   "metadata": {},
   "source": [
    "# Testing"
   ]
  },
  {
   "cell_type": "code",
   "execution_count": 17,
   "metadata": {
    "collapsed": true
   },
   "outputs": [],
   "source": [
    "predictions = model.predict(x_test)\n",
    "\n",
    "pred = minMax.inverse_transform(predictions)\n",
    "\n",
    "pred = pred.squeeze()"
   ]
  },
  {
   "cell_type": "code",
   "execution_count": 18,
   "metadata": {},
   "outputs": [
    {
     "data": {
      "text/plain": [
       "[<matplotlib.lines.Line2D at 0x7f827423af60>]"
      ]
     },
     "execution_count": 18,
     "metadata": {},
     "output_type": "execute_result"
    },
    {
     "data": {
      "image/png": "[encoded data removed]",
      "text/plain": [
       "<matplotlib.figure.Figure at 0x7f8274357240>"
      ]
     },
     "metadata": {},
     "output_type": "display_data"
    }
   ],
   "source": [
    "plt.plot(pred)"
   ]
  },
  {
   "cell_type": "code",
   "execution_count": 19,
   "metadata": {},
   "outputs": [
    {
     "data": {
      "text/plain": [
       "[<matplotlib.lines.Line2D at 0x7f8274225a90>]"
      ]
     },
     "execution_count": 19,
     "metadata": {},
     "output_type": "execute_result"
    },
    {
     "data": {
      "image/png": "[encoded data removed]",
      "text/plain": [
       "<matplotlib.figure.Figure at 0x7f8274265908>"
      ]
     },
     "metadata": {},
     "output_type": "display_data"
    }
   ],
   "source": [
    "plt.plot(y_test)"
   ]
  },
  {
   "cell_type": "markdown",
   "metadata": {},
   "source": [
    "#### test loss using mean absolute error"
   ]
  },
  {
   "cell_type": "code",
   "execution_count": 20,
   "metadata": {
    "collapsed": true
   },
   "outputs": [],
   "source": [
    "from sklearn.metrics import mean_absolute_error"
   ]
  },
  {
   "cell_type": "code",
   "execution_count": 21,
   "metadata": {},
   "outputs": [
    {
     "data": {
      "text/plain": [
       "5109.9619915911744"
      ]
     },
     "execution_count": 21,
     "metadata": {},
     "output_type": "execute_result"
    }
   ],
   "source": [
    "mean_absolute_error(y_test, pred)"
   ]
  },
  {
   "cell_type": "markdown",
   "metadata": {},
   "source": [
    "#### ploting subset from the data"
   ]
  },
  {
   "cell_type": "code",
   "execution_count": 22,
   "metadata": {
    "collapsed": true
   },
   "outputs": [],
   "source": [
    "p = model.predict(x[:100].reshape(-1, seq_length-1, 1))\n",
    "p = minMax.inverse_transform(p)\n",
    "p = p.squeeze()"
   ]
  },
  {
   "cell_type": "code",
   "execution_count": 23,
   "metadata": {},
   "outputs": [
    {
     "data": {
      "text/plain": [
       "[<matplotlib.lines.Line2D at 0x7f8274189da0>]"
      ]
     },
     "execution_count": 23,
     "metadata": {},
     "output_type": "execute_result"
    },
    {
     "data": {
      "image/png": "[encoded data removed]",
      "text/plain": [
       "<matplotlib.figure.Figure at 0x7f8274272080>"
      ]
     },
     "metadata": {},
     "output_type": "display_data"
    }
   ],
   "source": [
    "plt.plot(p)\n",
    "plt.plot(minMax.inverse_transform(y[:100].reshape(-1,1)).squeeze())"
   ]
  },
  {
   "cell_type": "markdown",
   "metadata": {},
   "source": [
    "#### ploting data of the past 2 years"
   ]
  },
  {
   "cell_type": "code",
   "execution_count": 24,
   "metadata": {},
   "outputs": [
    {
     "data": {
      "text/plain": [
       "[<matplotlib.lines.Line2D at 0x7f8274169c18>]"
      ]
     },
     "execution_count": 24,
     "metadata": {},
     "output_type": "execute_result"
    },
    {
     "data": {
      "image/png": "[encoded data removed]",
      "text/plain": [
       "<matplotlib.figure.Figure at 0x7f82741d2828>"
      ]
     },
     "metadata": {},
     "output_type": "display_data"
    }
   ],
   "source": [
    "p = model.predict(x.reshape(-1, seq_length-1, 1))\n",
    "p = minMax.inverse_transform(p)\n",
    "p = p.squeeze()\n",
    "plt.plot(p)\n",
    "plt.plot(minMax.inverse_transform(y.reshape(-1,1)).squeeze())"
   ]
  },
  {
   "cell_type": "code",
   "execution_count": 25,
   "metadata": {
    "collapsed": true
   },
   "outputs": [],
   "source": [
    "model.save(\"model.h5\")"
   ]
  },
  {
   "cell_type": "code",
   "execution_count": null,
   "metadata": {
    "collapsed": true
   },
   "outputs": [],
   "source": []
  }
 ],
 "metadata": {
  "kernelspec": {
   "display_name": "Python 3",
   "language": "python",
   "name": "python3"
  },
  "language_info": {
   "codemirror_mode": {
    "name": "ipython",
    "version": 3
   },
   "file_extension": ".py",
   "mimetype": "text/x-python",
   "name": "python",
   "nbconvert_exporter": "python",
   "pygments_lexer": "ipython3",
   "version": "3.6.3"
  }
 },
 "nbformat": 4,
 "nbformat_minor": 2
}
